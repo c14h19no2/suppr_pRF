{
 "cells": [
  {
   "cell_type": "markdown",
   "id": "dbb324ee-c4fb-4bbb-8ca9-16d6a5e45663",
   "metadata": {},
   "source": [
    "## Import function libraries"
   ]
  },
  {
   "cell_type": "code",
   "execution_count": null,
   "id": "1e0e6da9-69b6-4b3a-bb43-8c14f2910770",
   "metadata": {},
   "outputs": [],
   "source": [
    "import numpy as np\n",
    "import pandas as pd\n",
    "import scipy\n",
    "import scipy.stats as stats\n",
    "import scipy.io as sio\n",
    "import matplotlib.pyplot as plt\n",
    "import nibabel as nib\n",
    "from nilearn.plotting import view_img\n",
    "import math\n",
    "import os\n",
    "from os.path import join, exists, split\n",
    "from pathlib import Path\n",
    "import sys\n",
    "import time\n",
    "import urllib.request\n",
    "import copy\n",
    "import warnings\n",
    "from tqdm import tqdm\n",
    "from pprint import pprint\n",
    "from bids.layout import BIDSLayout\n",
    "warnings.filterwarnings('ignore')"
   ]
  },
  {
   "cell_type": "markdown",
   "id": "fc2ea847-ffaa-4f0a-b4cd-aae2d9d3a14e",
   "metadata": {},
   "source": [
    "## Set data path"
   ]
  },
  {
   "cell_type": "code",
   "execution_count": null,
   "id": "ce49fe39-b3fb-470f-b465-651a68b3f126",
   "metadata": {},
   "outputs": [],
   "source": [
    "datadir = Path('/tank/shared/2023/dist_supp_pRF/pilot_data/')\n",
    "datadir_bids = Path(datadir, 'bids_data-withfixation-stc')\n",
    "datadir_fmriprep = Path(datadir, 'derivatives-withfixation-stc', 'fmriprep')\n",
    "datadir_freesufer = Path(datadir, 'derivatives-withfixation-stc', 'freesurfer')\n",
    "outputdir = Path(datadir, 'derivatives-withfixation-stc', 'GLMsingle_test', 'GLMsingle_2stimuli')\n",
    "figuredir = Path(datadir, 'derivatives-withfixation-stc', 'GLMsingle_test', 'GLMsingle_2stimuli_figures')\n",
    "\n",
    "print(f'directory of dataset:\\n\\t{datadir}\\n')\n",
    "print(f'directory to save example1 outputs:\\n\\t{outputdir}\\n')"
   ]
  },
  {
   "cell_type": "markdown",
   "id": "5d27364e-f142-4b75-a6b3-74c7136b09a2",
   "metadata": {},
   "source": [
    "## Set parameters"
   ]
  },
  {
   "cell_type": "code",
   "execution_count": null,
   "id": "0149af97-7490-462b-a1cf-45171f651baa",
   "metadata": {},
   "outputs": [],
   "source": [
    "sub = '001'\n",
    "ses = '01'\n",
    "runs = [4, 5]\n",
    "angles = [*range(0, 360, 15)]\n",
    "TR = 1.6 #s\n",
    "pseudo_TR = 0.9\n",
    "TR_nr = 346\n",
    "blank_TR_nr = 4\n",
    "fixation_dur = 0.4\n",
    "stim_dur = 0.4\n",
    "total_time = (TR_nr-blank_TR_nr)*TR"
   ]
  },
  {
   "cell_type": "markdown",
   "id": "2661bec6-01f9-4d27-b52e-79ac89631ec3",
   "metadata": {},
   "source": [
    "## Load BIDS data"
   ]
  },
  {
   "cell_type": "code",
   "execution_count": null,
   "id": "c832122b-f0a7-44aa-bd86-1a5cadf80da4",
   "metadata": {},
   "outputs": [],
   "source": [
    "bids_layout = BIDSLayout(datadir_bids, validate=False)\n",
    "fmriprep_layout = BIDSLayout(datadir_fmriprep, validate=False)\n",
    "\n",
    "# event_file\n",
    "print(\"loading run {}\".format(run))\n",
    "event_file = bids_layout.get(subject=sub, \n",
    "                             session=ses, \n",
    "                             task='ping', \n",
    "                             run=run, \n",
    "                             suffix=\"events\",\n",
    "                             extension='tsv')[0]\n",
    "print(\"Event file path: \", event_file.path)\n",
    "ev_dfs.append(pd.read_csv(event_file.path, sep='\\t'))\n",
    "\n",
    "# nifti file\n",
    "nifti_file = fmriprep_layout.get(subject=sub, \n",
    "                             session=ses, \n",
    "                             task='ping', \n",
    "                             run=run, \n",
    "                             space='T1w',\n",
    "                             suffix=\"bold\",\n",
    "                             extension='nii.gz')[0]\n",
    "print(\"BOLD file path: \", nifti_file.path)\n",
    "datvol = nib.load(nifti_file)\n",
    "\n",
    "# T1 file \n",
    "T1_file = fmriprep_layout.get(subject=sub, \n",
    "                                session=ses, \n",
    "                                suffix=\"T1w\",\n",
    "                                extension='nii.gz')[0]\n",
    "print(T1_file.path)\n",
    "T1vol = nib.load(T1_file)"
   ]
  },
  {
   "cell_type": "code",
   "execution_count": null,
   "id": "4dfc2f2c-2682-45ee-ab4e-ad399056b9a3",
   "metadata": {},
   "outputs": [],
   "source": []
  }
 ],
 "metadata": {
  "kernelspec": {
   "display_name": "Python 3 (ipykernel)",
   "language": "python",
   "name": "python3"
  },
  "language_info": {
   "codemirror_mode": {
    "name": "ipython",
    "version": 3
   },
   "file_extension": ".py",
   "mimetype": "text/x-python",
   "name": "python",
   "nbconvert_exporter": "python",
   "pygments_lexer": "ipython3",
   "version": "3.10.11"
  }
 },
 "nbformat": 4,
 "nbformat_minor": 5
}
