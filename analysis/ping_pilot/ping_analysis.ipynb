{
 "cells": [
  {
   "cell_type": "markdown",
   "metadata": {},
   "source": [
    "## Import function libraries"
   ]
  },
  {
   "cell_type": "code",
   "execution_count": 1,
   "metadata": {},
   "outputs": [],
   "source": [
    "import numpy as np\n",
    "import pandas as pd\n",
    "import scipy\n",
    "import scipy.stats as stats\n",
    "import scipy.io as sio\n",
    "import matplotlib.pyplot as plt\n",
    "import nibabel as nib\n",
    "\n",
    "import os\n",
    "from os.path import join, exists, split\n",
    "from pathlib import Path\n",
    "import sys\n",
    "import time\n",
    "import urllib.request\n",
    "import copy\n",
    "import warnings\n",
    "from tqdm import tqdm\n",
    "from pprint import pprint\n",
    "from bids.layout import BIDSLayout\n",
    "warnings.filterwarnings('ignore')\n",
    "\n",
    "import glmsingle\n",
    "from glmsingle.glmsingle import GLM_single"
   ]
  },
  {
   "cell_type": "code",
   "execution_count": 2,
   "metadata": {},
   "outputs": [
    {
     "name": "stdout",
     "output_type": "stream",
     "text": [
      "directory of dataset:\n",
      "\t/tank/shared/2023/dist_supp_pRF/pilot_data\n",
      "\n",
      "directory to save example1 outputs:\n",
      "\t/tank/shared/2023/dist_supp_pRF/pilot_data/derivatives/GLMsingle\n",
      "\n"
     ]
    }
   ],
   "source": [
    "datadir = Path('/tank/shared/2023/dist_supp_pRF/pilot_data/')\n",
    "datadir_bids = Path(datadir, 'bids_data')\n",
    "datadir_fmriprep = Path(datadir, 'derivatives', 'fmriprep')\n",
    "datadir_freesufer = Path(datadir, 'derivatives', 'freesurfer')\n",
    "outputdir = Path(datadir, 'derivatives', 'GLMsingle')\n",
    "\n",
    "print(f'directory of dataset:\\n\\t{datadir}\\n')\n",
    "print(f'directory to save example1 outputs:\\n\\t{outputdir}\\n')"
   ]
  },
  {
   "cell_type": "code",
   "execution_count": 3,
   "metadata": {},
   "outputs": [],
   "source": [
    "sub = '001'\n",
    "ses = '01'\n",
    "run = 3\n",
    "angles = [*range(0, 360, 15)]\n",
    "TR = 1.6 #s\n",
    "pseudo_TR = 0.9\n",
    "TR_nr = 346\n",
    "fixation_dur = 0.4\n",
    "total_time = TR_nr*TR"
   ]
  },
  {
   "cell_type": "markdown",
   "metadata": {},
   "source": [
    "## Load files"
   ]
  },
  {
   "cell_type": "code",
   "execution_count": 27,
   "metadata": {},
   "outputs": [
    {
     "name": "stdout",
     "output_type": "stream",
     "text": [
      "/tank/shared/2023/dist_supp_pRF/pilot_data/bids_data/sub-001/ses-01/func/sub-001_ses-01_task-ping_run-03_events.tsv\n",
      "/tank/shared/2023/dist_supp_pRF/pilot_data/derivatives/fmriprep/sub-001/ses-01/func/sub-001_ses-01_task-ping_run-3_space-fsLR_den-170k_bold.dtseries.nii\n",
      "(608, 170494)\n"
     ]
    }
   ],
   "source": [
    "bids_layout = BIDSLayout(datadir_bids, validate=False)\n",
    "fmriprep_layout = BIDSLayout(datadir_fmriprep, validate=False)\n",
    "\n",
    "# event_file\n",
    "event_file = bids_layout.get(subject=sub, \n",
    "                             session=ses, \n",
    "                             task='ping', \n",
    "                             run=3, \n",
    "                             suffix=\"events\",\n",
    "                             extension='tsv')[0]\n",
    "print(event_file.path)\n",
    "ev_df = pd.read_csv(event_file.path, sep='\\t')\n",
    "\n",
    "# cifti file\n",
    "cifti_file = fmriprep_layout.get(subject=sub, \n",
    "                             session=ses, \n",
    "                             task='ping', \n",
    "                             run=3, \n",
    "                             suffix=\"bold\",\n",
    "                             extension='dtseries.nii')[0]\n",
    "print(cifti_file.path)\n",
    "datvol = nib.load(cifti_file)\n",
    "at = np.asanyarray(datvol.dataobj)\n",
    "print(at.shape)"
   ]
  },
  {
   "cell_type": "markdown",
   "metadata": {},
   "source": [
    "## Transfer the design matrix"
   ]
  },
  {
   "cell_type": "code",
   "execution_count": 5,
   "metadata": {},
   "outputs": [],
   "source": [
    "start_timepoint = ev_df[(ev_df['trial_nr']==1) & \n",
    "                        (ev_df['event_type']=='pulse')]['onset'].values[0]\n",
    "\n",
    "# Correct the start time\n",
    "ev_df['onset'] = ev_df['onset'] - start_timepoint\n",
    "onset_df = ev_df[['onset', 'angle_Ping', 'ori_Ping', 'direction']][(ev_df['trial_type']=='PingTrial') &\n",
    "      (ev_df['event_type']=='stimulus')].reset_index(drop=True)"
   ]
  },
  {
   "cell_type": "code",
   "execution_count": 6,
   "metadata": {},
   "outputs": [],
   "source": [
    "onset_df['onset'] = onset_df['onset']*10\n",
    "onset_df['onset'] = onset_df['onset'].astype('int')\n",
    "onset_df['angle_Ping'] = onset_df['angle_Ping'].astype('int')\n",
    "onset_df['ori_Ping'] = onset_df['ori_Ping'].astype('int')"
   ]
  },
  {
   "cell_type": "code",
   "execution_count": 7,
   "metadata": {},
   "outputs": [],
   "source": [
    "dm = np.zeros((len(np.arange(0, total_time, pseudo_TR)), len(angles)), dtype=int)\n",
    "for index, row in onset_df.iterrows():\n",
    "    TR_ind = int((row['onset'] - fixation_dur*10)/(pseudo_TR*10))\n",
    "    column_ind = angles.index(row['angle_Ping'])\n",
    "    dm[TR_ind, column_ind] = 1"
   ]
  },
  {
   "cell_type": "code",
   "execution_count": 8,
   "metadata": {},
   "outputs": [],
   "source": [
    "df_dm = pd.DataFrame(dm, columns=angles)"
   ]
  },
  {
   "cell_type": "markdown",
   "metadata": {},
   "source": [
    "## Do GLMsingle"
   ]
  },
  {
   "cell_type": "code",
   "execution_count": null,
   "metadata": {},
   "outputs": [],
   "source": []
  }
 ],
 "metadata": {
  "kernelspec": {
   "display_name": "Python 3 (ipykernel)",
   "language": "python",
   "name": "python3"
  },
  "language_info": {
   "codemirror_mode": {
    "name": "ipython",
    "version": 3
   },
   "file_extension": ".py",
   "mimetype": "text/x-python",
   "name": "python",
   "nbconvert_exporter": "python",
   "pygments_lexer": "ipython3",
   "version": "3.10.11"
  }
 },
 "nbformat": 4,
 "nbformat_minor": 4
}
