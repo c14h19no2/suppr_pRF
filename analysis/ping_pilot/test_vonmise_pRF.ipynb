{
 "cells": [
  {
   "cell_type": "code",
   "execution_count": 1,
   "metadata": {},
   "outputs": [],
   "source": [
    "import os\n",
    "import time\n",
    "import argparse\n",
    "import scipy as sp\n",
    "import scipy.stats as stats\n",
    "import numpy as np\n",
    "from numba import jit\n",
    "import matplotlib.pyplot as plt\n",
    "import pandas as pd\n",
    "from pathlib import Path\n",
    "import logging\n",
    "import yaml\n",
    "from bids.layout import BIDSLayout\n",
    "import nibabel as nib\n",
    "from prfpy.rf import vonMises1D as vm\n",
    "from prfpy.rf import gauss1D_cart as g1d\n",
    "from scipy.ndimage import median_filter, gaussian_filter, binary_propagation\n",
    "from nilearn.glm.first_level.hemodynamic_models import _gamma_difference_hrf"
   ]
  },
  {
   "cell_type": "code",
   "execution_count": 2,
   "metadata": {},
   "outputs": [],
   "source": [
    "def save_nii(data, refdata, outputdir, filename):\n",
    "    filepath = Path(outputdir, filename)\n",
    "    nib.save(\n",
    "        nib.Nifti1Image(\n",
    "            data,\n",
    "            affine=refdata.affine,\n",
    "            header=refdata.header,\n",
    "        ),\n",
    "        filepath,\n",
    "    )\n",
    "\n",
    "\n",
    "def calc_stim_radius(stim_size, stim_center_dist):\n",
    "    \"\"\"Calculate the size of the circle in angle units from visual angle units\"\"\"\n",
    "    return np.degrees(np.arctan((stim_size / 2) / stim_center_dist))\n",
    "\n",
    "\n",
    "def con_dm(ev_df, design_opt):\n",
    "    TR_nr_from_DM = ev_df[\"event_type\"].value_counts().pulse\n",
    "    if TR_nr_from_DM + design_opt[\"blank_TR_nr\"] != design_opt[\"TR_nr\"]:\n",
    "        logging.warning(\n",
    "            f'Number of TRs from DM ({TR_nr_from_DM}) is not equal to the number of TRs from design_opt ({design_opt[\"TR_nr\"]})'\n",
    "        )\n",
    "    start_timepoint = ev_df[\n",
    "        (ev_df[\"trial_nr\"] == 1) & (ev_df[\"event_type\"] == \"pulse\")\n",
    "    ][\"onset\"].values[0]\n",
    "    # Correct the start time\n",
    "    ev_df[\"onset\"] = ev_df[\"onset\"] - start_timepoint\n",
    "    onset_df = ev_df[[\"onset\", \"angle_Ping\", \"ori_Ping\", \"direction\"]][\n",
    "        (ev_df[\"trial_type\"] == \"PingTrial\") & (ev_df[\"event_type\"] == \"stimulus\")\n",
    "    ].reset_index(drop=True)\n",
    "\n",
    "    onset_df[\"onset\"] = onset_df[\"onset\"] * 10\n",
    "    onset_df[\"onset\"] = onset_df[\"onset\"].astype(\"int\")\n",
    "    onset_df[\"angle_Ping\"] = onset_df[\"angle_Ping\"].astype(\"int\")\n",
    "    onset_df[\"ori_Ping\"] = onset_df[\"ori_Ping\"].astype(\"int\")\n",
    "\n",
    "    dm = np.zeros(\n",
    "        (\n",
    "            len(np.arange(0, design_opt[\"total_time\"], design_opt[\"pseudo_TR\"])),\n",
    "            len(design_opt[\"angles\"]),\n",
    "        ),\n",
    "        dtype=int,\n",
    "    )\n",
    "    for _, row in onset_df.iterrows():\n",
    "        TR_ind = int(\n",
    "            (row[\"onset\"] - design_opt[\"fixation_dur\"] * 10)\n",
    "            / (design_opt[\"pseudo_TR\"] * 10)\n",
    "        )\n",
    "        column_ind = design_opt[\"angles\"].index(row[\"angle_Ping\"])\n",
    "        dm[TR_ind, column_ind] = 1\n",
    "\n",
    "    return dm\n",
    "\n",
    "\n",
    "def con_dms(bids_layout, design_opt):\n",
    "    \"\"\"Design matrix\"\"\"\n",
    "    sub = design_opt[\"sub\"]\n",
    "    ses = design_opt[\"ses\"]\n",
    "    runs = design_opt[\"runs\"]\n",
    "    ev_dfs = []\n",
    "    dms = []\n",
    "    for run in runs:\n",
    "        logging.info(f\"Loading event file for run {run}\")\n",
    "        event_file = bids_layout.get(\n",
    "            subject=sub,\n",
    "            session=ses,\n",
    "            task=\"ping\",\n",
    "            run=run,\n",
    "            suffix=\"events\",\n",
    "            extension=\"tsv\",\n",
    "        )[0]\n",
    "        logging.info(f\"Event file path: {event_file.path}\")\n",
    "        ev_dfs.append(pd.read_csv(event_file.path, sep=\"\\t\"))\n",
    "\n",
    "    for ev_df in ev_dfs:\n",
    "        dm = con_dm(ev_df, design_opt)\n",
    "        dms.append(dm)\n",
    "    return dms\n",
    "\n",
    "\n",
    "def con_imgs(fmriprep_layout, design_opt):\n",
    "    # nifti file\n",
    "    imgs = []\n",
    "    sub = design_opt[\"sub\"]\n",
    "    ses = design_opt[\"ses\"]\n",
    "    runs = design_opt[\"runs\"]\n",
    "\n",
    "    for run in runs:\n",
    "        logging.info(f\"Loading func image for run {run}\")\n",
    "        nifti_file = fmriprep_layout.get(\n",
    "            subject=sub,\n",
    "            session=ses,\n",
    "            task=\"ping\",\n",
    "            run=run,\n",
    "            space=\"T1w\",\n",
    "            suffix=\"bold\",\n",
    "            extension=\"nii.gz\",\n",
    "        )[0]\n",
    "        logging.info(f\"BOLD file path: {nifti_file.path}\")\n",
    "        datvol = nib.load(nifti_file)\n",
    "        imgs.append(datvol.get_fdata())\n",
    "        logging.info(f\"The image size of run {run} is {imgs[-1].shape}\")\n",
    "    return imgs\n",
    "\n",
    "\n",
    "def con_vonmises_grid(\n",
    "    angle_nr,\n",
    "    oversamplingratio=9,\n",
    "    kappas_nr=20,\n",
    "    kappa_range=[0.1, 50],\n",
    "):\n",
    "    \"\"\"\n",
    "    :param angle_nr: number of angles\n",
    "    :param oversamplingratio: oversampling ratio for mu\n",
    "    :param kappa_nr: number of kappa values\n",
    "    :param kappa_range: range of kappa values\n",
    "    :return: 2D array of von mises values\"\"\"\n",
    "    kappa_log10_range = [np.log10(kappa_range[0]), np.log10(kappa_range[1])]\n",
    "    mus = np.linspace(0, 2 * np.pi, oversamplingratio * angle_nr, endpoint=False)\n",
    "    kappas = np.logspace(\n",
    "        kappa_log10_range[0], [kappa_log10_range[1]], kappas_nr, endpoint=True\n",
    "    )\n",
    "    mugrid, kappagrid = np.meshgrid(mus, kappas)\n",
    "    mugrid, kappagrid = mugrid.flatten(), kappagrid.flatten()\n",
    "    return (\n",
    "        np.array([vm(mus, mu, kappa) for mu, kappa in zip(mugrid, kappagrid)]),\n",
    "        mugrid,\n",
    "        kappagrid,\n",
    "    )\n",
    "\n",
    "\n",
    "def angle_to_stim_screen(stim_angle, angle_nr, stim_radius, oversamplingratio=9):\n",
    "    radians = np.linspace(\n",
    "        0, np.radians(360), angle_nr * oversamplingratio, endpoint=False\n",
    "    )\n",
    "    low_bound = np.radians((stim_angle - stim_radius) % 360)\n",
    "    high_bound = np.radians((stim_angle + stim_radius) % 360)\n",
    "    stim_radian = np.radians(stim_angle % 360)\n",
    "    idx_low_bound = (np.abs(radians - low_bound)).argmin()\n",
    "    idx_high_bound = (np.abs(radians - high_bound)).argmin()\n",
    "    stim_screen = np.zeros_like(radians)\n",
    "    if (high_bound < low_bound) and (stim_radius >= 360/(angle_nr*oversamplingratio*2)) :\n",
    "        stim_screen[idx_low_bound:] = 1\n",
    "        stim_screen[: idx_high_bound + 1] = 1\n",
    "    elif (high_bound < low_bound) and (stim_radius < 360/(angle_nr*oversamplingratio*2)):\n",
    "        stim_screen[: idx_high_bound + 1] = 1\n",
    "    else:\n",
    "        stim_screen[idx_low_bound : idx_high_bound + 1] = 1\n",
    "    return stim_screen\n",
    "\n",
    "\n",
    "def con_vonmises_dm(\n",
    "    dm: np.ndarray,\n",
    "    angle_nr: int = 8,\n",
    "    stim_radius: int = 0.7,\n",
    "    oversamplingratio: int = 9,\n",
    "):\n",
    "    angles = np.linspace(0, 360, angle_nr, endpoint=False)\n",
    "\n",
    "    new_dm = np.zeros((dm.shape[0], angle_nr * oversamplingratio))\n",
    "    for TR_ind in range(dm.shape[0]):\n",
    "        if any(dm[TR_ind, :]):\n",
    "            angle = angles[np.where(dm[TR_ind, :])[0][0]]\n",
    "            new_dm[TR_ind, :] = angle_to_stim_screen(\n",
    "                angle, angle_nr, stim_radius, oversamplingratio=oversamplingratio\n",
    "            )\n",
    "    return new_dm\n",
    "\n",
    "\n",
    "def model_timecourse(model, dm):\n",
    "    return np.dot(model.ravel(), dm.T.reshape((-1, dm.shape[0])))\n",
    "\n",
    "\n",
    "def rsq_for_model(data, model_tcs, return_yhat=False):\n",
    "    \"\"\"\n",
    "    Parameters\n",
    "    ----------\n",
    "    data : numpy.ndarray\n",
    "        1D or 2D, containing single time-course or multiple\n",
    "    model_tcs : numpy.ndarray\n",
    "        1D, containing single model time-course\n",
    "    Returns\n",
    "    -------\n",
    "    rsq : float or numpy.ndarray\n",
    "        within-set rsq for this model's GLM fit, for all voxels in the data\n",
    "    yhat : numpy.ndarray\n",
    "        1D or 2D, model time-course for all voxels in the data\n",
    "\n",
    "    \"\"\"\n",
    "    dm = np.vstack([np.ones(data.shape[-1]), model_tcs]).T\n",
    "    betas = np.linalg.lstsq(dm, data.T, rcond=None)[0]\n",
    "    yhat = np.dot(dm, betas).T\n",
    "    rsq = 1 - (data - yhat).var(-1) / data.var(-1)\n",
    "    if return_yhat:\n",
    "        return rsq, yhat\n",
    "    else:\n",
    "        return rsq\n",
    "\n",
    "\n",
    "def grid_search_for_voxel(sv_tcs, grid_model_timecourses_conv, mugrid, kappagrid):\n",
    "    rsqs = np.array(\n",
    "        [rsq_for_model(sv_tcs, mtcs) for mtcs in grid_model_timecourses_conv]\n",
    "    )\n",
    "    best_fitting_model = np.argmax(rsqs, axis=0)\n",
    "    best_angle, best_kappa = (\n",
    "        mugrid[best_fitting_model],\n",
    "        kappagrid[best_fitting_model],\n",
    "    )\n",
    "    rsq = rsq_for_model(\n",
    "        sv_tcs, grid_model_timecourses_conv[best_fitting_model], return_yhat=False\n",
    "    )\n",
    "    return rsq, best_angle, best_kappa"
   ]
  },
  {
   "cell_type": "code",
   "execution_count": 3,
   "metadata": {},
   "outputs": [],
   "source": [
    "os.chdir('/tank/nwa201/projects/suppr_pRF/analysis/ping_pilot')\n",
    "yml_config = 'sub-002_loc-8_lib-yes.yml'\n",
    "if os.path.isfile(yml_config):\n",
    "    with open(yml_config, \"r\") as ymlfile:\n",
    "        try:\n",
    "            opt = yaml.safe_load(ymlfile)\n",
    "        except yaml.YAMLError as exc:\n",
    "            logging.error(exc)\n",
    "design_opt = opt[\"EXP_opt\"][\"design\"]\n",
    "path_opt = opt[\"EXP_opt\"][\"path\"]\n",
    "\n",
    "bids_data = path_opt[\"bids\"]\n",
    "derivatives = path_opt[\"derivatives\"]"
   ]
  },
  {
   "cell_type": "code",
   "execution_count": 4,
   "metadata": {},
   "outputs": [],
   "source": [
    "# set exp parameters\n",
    "design_opt[\"runs\"] = np.array(design_opt[\"runs\"])\n",
    "design_opt[\"angles\"] = [*range(0, 360, int(360 / design_opt[\"angles_nr\"]))]\n",
    "TR = design_opt[\"pseudo_TR\"]\n",
    "design_opt[\"total_time\"] = (\n",
    "    design_opt[\"TR_nr\"] - design_opt[\"blank_TR_nr\"]\n",
    ") * design_opt[\"TR\"]\n",
    "\n",
    "# set path\n",
    "path_opt[\"datadir\"] = Path(path_opt[\"datadir\"])\n",
    "path_opt[\"datadir_bids\"] = Path(path_opt[\"datadir\"], bids_data)\n",
    "path_opt[\"datadir_fmriprep\"] = Path(path_opt[\"datadir\"], derivatives, \"fmriprep\")\n",
    "path_opt[\"datadir_freesufer\"] = Path(path_opt[\"datadir\"], derivatives, \"freesurfer\")\n",
    "path_opt[\"datadir_pRFmapping\"] = Path(\n",
    "    path_opt[\"datadir\"], derivatives, \"pRFmapping\"\n",
    ")\n",
    "path_opt[\"datadir_pRFmapping_task\"] = Path(\n",
    "    path_opt[\"datadir\"], derivatives, \"pRFmapping\", \"loc_8\"\n",
    ")\n",
    "os.makedirs(path_opt[\"datadir_pRFmapping\"], exist_ok=True)\n",
    "os.makedirs(path_opt[\"datadir_pRFmapping_task\"], exist_ok=True)\n",
    "\n",
    "# set up BIDS layout\n",
    "bids_layout = BIDSLayout(path_opt[\"datadir_bids\"], validate=False)\n",
    "fmriprep_layout = BIDSLayout(path_opt[\"datadir_fmriprep\"], validate=False)\n",
    "\n",
    "# load reference image\n",
    "bg_image_fn = fmriprep_layout.get(\n",
    "    subject=design_opt[\"sub\"],\n",
    "    session=design_opt[\"ses\"],\n",
    "    task=\"ping\",\n",
    "    run=design_opt[\"runs\"][0],\n",
    "    space=\"T1w\",\n",
    "    suffix=\"boldref\",\n",
    "    extension=\"nii.gz\",\n",
    ")[0]\n",
    "bref = nib.load(bg_image_fn)"
   ]
  },
  {
   "cell_type": "code",
   "execution_count": 5,
   "metadata": {},
   "outputs": [],
   "source": [
    "angle_nr = 8"
   ]
  },
  {
   "cell_type": "code",
   "execution_count": 6,
   "metadata": {},
   "outputs": [
    {
     "data": {
      "text/plain": [
       "<zip at 0x7ffff291f480>"
      ]
     },
     "execution_count": 6,
     "metadata": {},
     "output_type": "execute_result"
    }
   ],
   "source": [
    "zip(np.arange(5, 50, 4), np.arange(0,angle_nr))"
   ]
  },
  {
   "cell_type": "code",
   "execution_count": 7,
   "metadata": {},
   "outputs": [],
   "source": [
    "dm = np.zeros((50,angle_nr))\n",
    "for i, j in zip(np.arange(5, 50, 4), np.arange(0,angle_nr)):\n",
    "    dm[i,j] = 1"
   ]
  },
  {
   "cell_type": "code",
   "execution_count": 8,
   "metadata": {},
   "outputs": [],
   "source": [
    "# set up design matrix\n",
    "\n",
    "oversamplingratio = 1\n",
    "stim_radius = calc_stim_radius(0.7, 2)\n",
    "new_dm = con_vonmises_dm(\n",
    "    dm,\n",
    "    angle_nr=design_opt[\"angles_nr\"],\n",
    "    stim_radius=stim_radius,\n",
    "    oversamplingratio=oversamplingratio,\n",
    ")\n",
    "\n",
    "(\n",
    "    models,\n",
    "    mugrid,\n",
    "    kappagrid,\n",
    ") = con_vonmises_grid(\n",
    "    angle_nr=design_opt[\"angles_nr\"],\n",
    "    oversamplingratio=oversamplingratio,\n",
    "    kappas_nr=3,\n",
    "    kappa_range=[0.1, 50],\n",
    ")\n",
    "\n",
    "grid_model_timecourses = np.array(\n",
    "    [model_timecourse(models[i, :], new_dm) for i in range(models.shape[0])]\n",
    ")\n",
    "\n",
    "hrf = _gamma_difference_hrf(tr=TR, oversampling=1, onset=-0.75)[np.newaxis, :]\n",
    "\n",
    "grid_model_timecourses_conv = sp.signal.fftconvolve(\n",
    "    grid_model_timecourses, hrf, mode=\"full\", axes=(-1)\n",
    ")[..., : grid_model_timecourses.shape[-1]]"
   ]
  },
  {
   "cell_type": "code",
   "execution_count": 9,
   "metadata": {},
   "outputs": [
    {
     "data": {
      "image/png": "[encoded data removed]",
      "text/plain": [
       "<Figure size 640x480 with 1 Axes>"
      ]
     },
     "metadata": {},
     "output_type": "display_data"
    }
   ],
   "source": [
    "plt.imshow(new_dm)\n",
    "plt.show()"
   ]
  },
  {
   "cell_type": "code",
   "execution_count": 10,
   "metadata": {},
   "outputs": [],
   "source": [
    "# assume there are 8 voxels, each with a timecourse of 50 TRs, and corresponding to a the dm above\n",
    "sv_tcs = np.random.randn(50, angle_nr)/50\n",
    "hrfdata = sp.signal.fftconvolve(\n",
    "    dm.T, hrf, mode=\"full\", axes=(-1)\n",
    ")[..., : new_dm.T.shape[-1]]\n",
    "sv_tcs += hrfdata.T\n"
   ]
  },
  {
   "cell_type": "code",
   "execution_count": 11,
   "metadata": {},
   "outputs": [
    {
     "data": {
      "image/png": "[encoded data removed]",
      "text/plain": [
       "<Figure size 640x480 with 1 Axes>"
      ]
     },
     "metadata": {},
     "output_type": "display_data"
    }
   ],
   "source": [
    "plt.imshow(sv_tcs)\n",
    "plt.show()"
   ]
  },
  {
   "cell_type": "code",
   "execution_count": 24,
   "metadata": {},
   "outputs": [
    {
     "name": "stdout",
     "output_type": "stream",
     "text": [
      "models number is 24, oversampled angles number is 8\n",
      "angle number is 8, oversampleratio is 3.0\n",
      "Corresponding angle: 270.00, kappa for this model: 0.10\n",
      "dm shape: (50, 8), new_dm shape: (50, 8)\n"
     ]
    },
    {
     "data": {
      "image/png": "[encoded data removed]",
      "text/plain": [
       "<Figure size 640x480 with 1 Axes>"
      ]
     },
     "metadata": {},
     "output_type": "display_data"
    }
   ],
   "source": [
    "chosen_model = 6\n",
    "print(f\"models number is {models.shape[0]}, oversampled angles number is {models.shape[1]}\")\n",
    "print(f\"angle number is {angle_nr}, oversampleratio is {models.shape[0]/models.shape[1]}\")\n",
    "print(f\"Corresponding angle: {np.degrees(mugrid[chosen_model]):.2f}, kappa for this model: {kappagrid[chosen_model]:.2f}\")\n",
    "print(f\"dm shape: {dm.shape}, new_dm shape: {new_dm.shape}\")\n",
    "plt.plot(dm[:,int(round(np.degrees(mugrid[chosen_model]/(360/angle_nr))))], 'o')\n",
    "plt.plot(new_dm[:,int(round(np.degrees(mugrid[chosen_model]/(360/(angle_nr*oversamplingratio)))))], '^')\n",
    "plt.plot(grid_model_timecourses_conv[chosen_model, :])\n",
    "plt.plot(model_timecourse(models[chosen_model, :], new_dm))\n",
    "plt.show()\n"
   ]
  },
  {
   "cell_type": "code",
   "execution_count": 13,
   "metadata": {},
   "outputs": [
    {
     "data": {
      "text/plain": [
       "[<matplotlib.lines.Line2D at 0x7fffab68caf0>]"
      ]
     },
     "execution_count": 13,
     "metadata": {},
     "output_type": "execute_result"
    },
    {
     "data": {
      "image/png": "[encoded data removed]",
      "text/plain": [
       "<Figure size 640x480 with 1 Axes>"
      ]
     },
     "metadata": {},
     "output_type": "display_data"
    }
   ],
   "source": [
    "plt.plot(model_timecourse(models[23, :], new_dm))"
   ]
  },
  {
   "cell_type": "code",
   "execution_count": 14,
   "metadata": {},
   "outputs": [
    {
     "data": {
      "text/plain": [
       "(24, 8)"
      ]
     },
     "execution_count": 14,
     "metadata": {},
     "output_type": "execute_result"
    }
   ],
   "source": [
    "models.shape"
   ]
  },
  {
   "cell_type": "code",
   "execution_count": 15,
   "metadata": {},
   "outputs": [
    {
     "data": {
      "image/png": "[encoded data removed]",
      "text/plain": [
       "<Figure size 500x2000 with 1 Axes>"
      ]
     },
     "metadata": {},
     "output_type": "display_data"
    }
   ],
   "source": [
    "plt.figure(figsize=(5,20))\n",
    "plt.imshow(grid_model_timecourses.T)\n",
    "plt.show()"
   ]
  },
  {
   "cell_type": "code",
   "execution_count": 16,
   "metadata": {},
   "outputs": [
    {
     "data": {
      "text/plain": [
       "(24, 50)"
      ]
     },
     "execution_count": 16,
     "metadata": {},
     "output_type": "execute_result"
    }
   ],
   "source": [
    "grid_model_timecourses_conv.shape"
   ]
  },
  {
   "cell_type": "code",
   "execution_count": 17,
   "metadata": {},
   "outputs": [
    {
     "data": {
      "image/png": "[encoded data removed]",
      "text/plain": [
       "<Figure size 500x2000 with 1 Axes>"
      ]
     },
     "metadata": {},
     "output_type": "display_data"
    }
   ],
   "source": [
    "plt.figure(figsize=(5,20))\n",
    "plt.imshow(grid_model_timecourses_conv.T)\n",
    "plt.show()"
   ]
  },
  {
   "cell_type": "code",
   "execution_count": 18,
   "metadata": {},
   "outputs": [
    {
     "data": {
      "text/plain": [
       "array([1., 0., 0., 0., 0., 0., 0., 0.])"
      ]
     },
     "execution_count": 18,
     "metadata": {},
     "output_type": "execute_result"
    }
   ],
   "source": [
    "angles = np.linspace(0, 360, 8, endpoint=False)\n",
    "angle_to_stim_screen(\n",
    "    0, 8, stim_radius, oversamplingratio=oversamplingratio\n",
    ")"
   ]
  },
  {
   "cell_type": "code",
   "execution_count": 19,
   "metadata": {},
   "outputs": [],
   "source": [
    "rsq, best_angle, best_kappa = grid_search_for_voxel(\n",
    "    sv_tcs.T, grid_model_timecourses_conv, mugrid, kappagrid\n",
    ")"
   ]
  },
  {
   "cell_type": "code",
   "execution_count": 26,
   "metadata": {},
   "outputs": [
    {
     "name": "stdout",
     "output_type": "stream",
     "text": [
      "best angle: [  0.  45.  90. 135. 180. 225. 270. 315.], \n",
      "best kappa: [50. 50. 50. 50. 50. 50. 50. 50.], \n",
      "rsq: [0.92117466 0.91119505 0.88046625 0.91635652 0.93085619 0.87465801\n",
      " 0.90322091 0.86893607]\n"
     ]
    }
   ],
   "source": [
    "print(f\"best angle: {np.degrees(best_angle)}, \\nbest kappa: {best_kappa}, \\nrsq: {rsq}\")"
   ]
  },
  {
   "cell_type": "code",
   "execution_count": null,
   "metadata": {},
   "outputs": [],
   "source": []
  }
 ],
 "metadata": {
  "kernelspec": {
   "display_name": "suppr_pRF",
   "language": "python",
   "name": "python3"
  },
  "language_info": {
   "codemirror_mode": {
    "name": "ipython",
    "version": 3
   },
   "file_extension": ".py",
   "mimetype": "text/x-python",
   "name": "python",
   "nbconvert_exporter": "python",
   "pygments_lexer": "ipython3",
   "version": "3.10.11"
  }
 },
 "nbformat": 4,
 "nbformat_minor": 2
}
