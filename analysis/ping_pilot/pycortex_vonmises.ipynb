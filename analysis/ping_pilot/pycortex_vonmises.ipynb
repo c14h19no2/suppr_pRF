{
 "cells": [
  {
   "cell_type": "code",
   "execution_count": 1,
   "metadata": {},
   "outputs": [],
   "source": [
    "import os, sys\n",
    "from pathlib import Path\n",
    "import cortex\n",
    "import nibabel as nib\n",
    "import numpy as np\n",
    "import matplotlib.colors as colors\n",
    "import matplotlib.pyplot as pl\n",
    "import time\n",
    "import platform\n",
    "import subprocess"
   ]
  },
  {
   "cell_type": "code",
   "execution_count": 2,
   "metadata": {},
   "outputs": [],
   "source": [
    "if platform.node()=='theCryingMachine.local':\n",
    "    data_dir = Path('/Users/ningkai/Library/CloudStorage/OneDrive-Personal/Workbench/suppr_pRF/data/spinoza/sub-002/derivatives/')\n",
    "elif platform.node()=='Smoldering-Corpse-Bar.local':\n",
    "    data_dir = Path('/Users/dionysus/Library/CloudStorage/OneDrive-Personal/Workbench/suppr_pRF/data/spinoza/sub-002/derivatives/')\n",
    "elif platform.node()=='node230':\n",
    "    raise ValueError('hmmm I dont think it works on a server. Your are working on {}'.format(platform.node()))\n",
    "else:\n",
    "    raise ValueError('No idea which computer this is. The computer name is {}'.format(platform.node()))"
   ]
  },
  {
   "cell_type": "code",
   "execution_count": 3,
   "metadata": {},
   "outputs": [],
   "source": [
    "subj_nr = 2\n",
    "sub = 'sub-{0:03d}'.format(subj_nr)\n",
    "cx_sub = \"EO_\" + sub\n",
    "\n",
    "fs_dir = data_dir / 'freesurfer'\n",
    "fs_subj_dir = Path(fs_dir, sub)\n",
    "\n",
    "vonmises_dir = data_dir / 'vonmises'\n",
    "example_func_fn = data_dir / 'func' / 'sub-002_ses-01_task-ping_run-4_space-T1w_boldref.nii.gz'\n",
    "bmask_fn = data_dir / 'func' / 'sub-002_ses-01_task-ping_run-4_space-T1w_desc-brain_mask.nii.gz'\n",
    "bmask = nib.load(bmask_fn)\n",
    "\n",
    "bref = nib.load(example_func_fn)\n",
    "\n",
    "ctx_dir = data_dir / 'cortex' / 'outputs'"
   ]
  },
  {
   "cell_type": "code",
   "execution_count": 4,
   "metadata": {},
   "outputs": [
    {
     "name": "stdout",
     "output_type": "stream",
     "text": [
      "cortex.database.default_filestore: /Users/dionysus/Documents/pycortex/db\n",
      "cortex.options.usercfg: /Users/dionysus/Library/Application Support/pycortex/options.cfg\n"
     ]
    }
   ],
   "source": [
    "print('cortex.database.default_filestore: {}'.format(cortex.database.default_filestore))\n",
    "print('cortex.options.usercfg: {}'.format(cortex.options.usercfg))"
   ]
  },
  {
   "cell_type": "code",
   "execution_count": 5,
   "metadata": {},
   "outputs": [
    {
     "ename": "ValueError",
     "evalue": "Do not overwrite",
     "output_type": "error",
     "traceback": [
      "\u001b[0;31m---------------------------------------------------------------------------\u001b[0m",
      "\u001b[0;31mValueError\u001b[0m                                Traceback (most recent call last)",
      "Cell \u001b[0;32mIn[5], line 1\u001b[0m\n\u001b[0;32m----> 1\u001b[0m \u001b[43mcortex\u001b[49m\u001b[38;5;241;43m.\u001b[39;49m\u001b[43mfreesurfer\u001b[49m\u001b[38;5;241;43m.\u001b[39;49m\u001b[43mimport_subj\u001b[49m\u001b[43m(\u001b[49m\u001b[43mfs_subject\u001b[49m\u001b[38;5;241;43m=\u001b[39;49m\u001b[43msub\u001b[49m\u001b[43m,\u001b[49m\n\u001b[1;32m      2\u001b[0m \u001b[43m                                \u001b[49m\u001b[43mcx_subject\u001b[49m\u001b[38;5;241;43m=\u001b[39;49m\u001b[43mcx_sub\u001b[49m\u001b[43m,\u001b[49m\n\u001b[1;32m      3\u001b[0m \u001b[43m                                \u001b[49m\u001b[43mfreesurfer_subject_dir\u001b[49m\u001b[38;5;241;43m=\u001b[39;49m\u001b[43mfs_dir\u001b[49m\u001b[43m)\u001b[49m\n",
      "File \u001b[0;32m~/anaconda3/envs/pycortex/lib/python3.9/site-packages/cortex/freesurfer.py:173\u001b[0m, in \u001b[0;36mimport_subj\u001b[0;34m(fs_subject, cx_subject, freesurfer_subject_dir, whitematter_surf)\u001b[0m\n\u001b[1;32m    171\u001b[0m     cx_subject \u001b[38;5;241m=\u001b[39m fs_subject\n\u001b[1;32m    172\u001b[0m \u001b[38;5;66;03m# Create and/or replace extant subject. Throws a warning that this will happen.\u001b[39;00m\n\u001b[0;32m--> 173\u001b[0m \u001b[43mdatabase\u001b[49m\u001b[38;5;241;43m.\u001b[39;49m\u001b[43mdb\u001b[49m\u001b[38;5;241;43m.\u001b[39;49m\u001b[43mmake_subj\u001b[49m\u001b[43m(\u001b[49m\u001b[43mcx_subject\u001b[49m\u001b[43m)\u001b[49m\n\u001b[1;32m    175\u001b[0m \u001b[38;5;28;01mimport\u001b[39;00m \u001b[38;5;21;01mnibabel\u001b[39;00m\n\u001b[1;32m    176\u001b[0m surfs \u001b[38;5;241m=\u001b[39m os\u001b[38;5;241m.\u001b[39mpath\u001b[38;5;241m.\u001b[39mjoin(database\u001b[38;5;241m.\u001b[39mdefault_filestore, cx_subject, \u001b[38;5;124m\"\u001b[39m\u001b[38;5;124msurfaces\u001b[39m\u001b[38;5;124m\"\u001b[39m, \u001b[38;5;124m\"\u001b[39m\u001b[38;5;132;01m{name}\u001b[39;00m\u001b[38;5;124m_\u001b[39m\u001b[38;5;132;01m{hemi}\u001b[39;00m\u001b[38;5;124m.gii\u001b[39m\u001b[38;5;124m\"\u001b[39m)\n",
      "File \u001b[0;32m~/anaconda3/envs/pycortex/lib/python3.9/site-packages/cortex/database.py:701\u001b[0m, in \u001b[0;36mDatabase.make_subj\u001b[0;34m(self, subject)\u001b[0m\n\u001b[1;32m    699\u001b[0m         shutil\u001b[38;5;241m.\u001b[39mrmtree(os\u001b[38;5;241m.\u001b[39mpath\u001b[38;5;241m.\u001b[39mjoin(\u001b[38;5;28mself\u001b[39m\u001b[38;5;241m.\u001b[39mfilestore, subject))\n\u001b[1;32m    700\u001b[0m     \u001b[38;5;28;01melse\u001b[39;00m:\n\u001b[0;32m--> 701\u001b[0m         \u001b[38;5;28;01mraise\u001b[39;00m \u001b[38;5;167;01mValueError\u001b[39;00m(\u001b[38;5;124m'\u001b[39m\u001b[38;5;124mDo not overwrite\u001b[39m\u001b[38;5;124m'\u001b[39m)\n\u001b[1;32m    703\u001b[0m \u001b[38;5;28;01mfor\u001b[39;00m dirname \u001b[38;5;129;01min\u001b[39;00m [\u001b[38;5;124m'\u001b[39m\u001b[38;5;124mtransforms\u001b[39m\u001b[38;5;124m'\u001b[39m, \u001b[38;5;124m'\u001b[39m\u001b[38;5;124manatomicals\u001b[39m\u001b[38;5;124m'\u001b[39m, \u001b[38;5;124m'\u001b[39m\u001b[38;5;124mcache\u001b[39m\u001b[38;5;124m'\u001b[39m, \u001b[38;5;124m'\u001b[39m\u001b[38;5;124msurfaces\u001b[39m\u001b[38;5;124m'\u001b[39m, \u001b[38;5;124m'\u001b[39m\u001b[38;5;124msurface-info\u001b[39m\u001b[38;5;124m'\u001b[39m,\u001b[38;5;124m'\u001b[39m\u001b[38;5;124mviews\u001b[39m\u001b[38;5;124m'\u001b[39m]:\n\u001b[1;32m    704\u001b[0m     \u001b[38;5;28;01mtry\u001b[39;00m:\n",
      "\u001b[0;31mValueError\u001b[0m: Do not overwrite"
     ]
    }
   ],
   "source": [
    "cortex.freesurfer.import_subj(fs_subject=sub,\n",
    "                                cx_subject=cx_sub,\n",
    "                                freesurfer_subject_dir=fs_dir)"
   ]
  },
  {
   "cell_type": "code",
   "execution_count": 6,
   "metadata": {},
   "outputs": [
    {
     "name": "stdout",
     "output_type": "stream",
     "text": [
      "[[ 1.00000000e+00 -2.05550000e-04 -6.70300000e-05  4.57238388e+01]\n",
      " [-6.70200000e-05  4.87200000e-05 -9.99999880e-01  1.84187180e+02]\n",
      " [ 2.05550000e-04  9.99999880e-01  4.87000000e-05  2.49198628e+01]\n",
      " [ 0.00000000e+00  0.00000000e+00  0.00000000e+00  9.99999880e-01]]\n"
     ]
    }
   ],
   "source": [
    "flirt_mtx = np.loadtxt(data_dir / \"register/flirt.mtx\",)\n",
    "print(flirt_mtx)\n",
    "bbregdat = [[-1.000000000000000e+00, 2.055505901807919e-04, 6.701818347210065e-05, 1.680365443229675e+00],\n",
    "[6.702871178276837e-05, 4.870421616942622e-05, 1.000000119209290e+00, -1.140921497344971e+01], \n",
    "[-2.055470977211371e-04, -1.000000119209290e+00, 4.871539204032160e-05, -8.093381881713867e+00],\n",
    "[0.000000000000000e+00, 0.000000000000000e+00, 0.000000000000000e+00, 1.000000000000000e+00]]"
   ]
  },
  {
   "cell_type": "code",
   "execution_count": 7,
   "metadata": {},
   "outputs": [],
   "source": [
    "custom_affine = np.identity(4)\n",
    "# custom_affine[1,3] -= 8\n",
    "transform = cortex.xfm.Transform(custom_affine, bref)\n",
    "transform.save(cx_sub, 'fmriprep', 'magnet')"
   ]
  },
  {
   "cell_type": "code",
   "execution_count": 8,
   "metadata": {},
   "outputs": [
    {
     "name": "stdout",
     "output_type": "stream",
     "text": [
      "T1 exists\n",
      "T2 exists\n",
      "T12 exists\n"
     ]
    }
   ],
   "source": [
    "T1 = Path(fs_dir, sub, \"mri\", \"T1.nii.gz\")\n",
    "T2 = Path(fs_dir, sub, \"mri\", \"T2.nii.gz\")\n",
    "T12 = Path(fs_dir, sub, \"mri\", \"T12.nii.gz\")\n",
    "for f, fn in zip([T1, T2], ['T1', 'T2']):\n",
    "    if f.exists():\n",
    "        print('{} exists'.format(fn))\n",
    "    else:\n",
    "        os.system(\"mri_convert %s %s\" % (Path(str(fn).replace('.nii.gz', '.mgz')), f))\n",
    "        print('convert {}'.format(fn))\n",
    "\n",
    "if not T12.exists():\n",
    "    os.system(\"fslmaths %s -div %s %s\" % (T1, T2, T12))\n",
    "    print('create T12')\n",
    "else:\n",
    "    print('T12 exists')\n",
    "\n",
    "aref = nib.load(T1)\n",
    "transform = cortex.xfm.Transform(np.identity(4), aref)\n",
    "transform.save(cx_sub, 'anat', 'magnet')"
   ]
  },
  {
   "cell_type": "code",
   "execution_count": 9,
   "metadata": {},
   "outputs": [
    {
     "data": {
      "text/plain": [
       "'export SUBJECTS_DIR=/Users/dionysus/Library/CloudStorage/OneDrive-Personal/Workbench/suppr_pRF/data/spinoza/sub-002/derivatives/freesurfer'"
      ]
     },
     "execution_count": 9,
     "metadata": {},
     "output_type": "execute_result"
    }
   ],
   "source": [
    "f'export SUBJECTS_DIR={fs_dir}'"
   ]
  },
  {
   "cell_type": "code",
   "execution_count": 10,
   "metadata": {},
   "outputs": [],
   "source": [
    "os.environ[\"SUBJECTS_DIR\"] = f'{fs_dir}'\n",
    "a = cortex.xfm.Transform.from_fsl(flirt_mtx, example_func_fn, T1)"
   ]
  },
  {
   "cell_type": "code",
   "execution_count": 11,
   "metadata": {},
   "outputs": [
    {
     "data": {
      "text/plain": [
       "array([[ 5.92417047e-01, -1.21773272e-04, -3.97037916e-05,\n",
       "         4.50617018e+01],\n",
       "       [ 1.21769405e-04,  5.92417119e-01, -2.88461959e-05,\n",
       "         5.98900943e+01],\n",
       "       [ 3.94294219e-05,  2.86381307e-05,  5.88235344e-01,\n",
       "         3.43375463e+01],\n",
       "       [ 0.00000000e+00,  0.00000000e+00,  0.00000000e+00,\n",
       "         1.00000012e+00]])"
      ]
     },
     "execution_count": 11,
     "metadata": {},
     "output_type": "execute_result"
    }
   ],
   "source": [
    "a.xfm"
   ]
  },
  {
   "cell_type": "code",
   "execution_count": 12,
   "metadata": {},
   "outputs": [],
   "source": [
    "R2_percentile = 97\n",
    "\n",
    "prf_rsq = nib.load(vonmises_dir / 'prf_rsq.nii.gz')\n",
    "prf_rsq_data = prf_rsq.get_fdata()\n",
    "\n",
    "retinamap = nib.load(vonmises_dir / 'prf_best_angle.nii.gz')\n",
    "prf_rsq_data[~np.array(bmask.get_fdata(), dtype=bool)] = np.nan\n",
    "q = np.nanpercentile(prf_rsq_data, R2_percentile)\n",
    "prf_rsq_data[prf_rsq_data<q] = np.nan\n",
    "retinamap_data = retinamap.get_fdata()\n",
    "retinamap_data[np.isnan(prf_rsq_data)] = np.nan \n",
    "retinamap_thred = nib.Nifti1Image(retinamap_data, retinamap.affine, retinamap.header)\n",
    "R2_data_thred = nib.Nifti1Image(prf_rsq_data, prf_rsq.affine, prf_rsq.header)"
   ]
  },
  {
   "cell_type": "code",
   "execution_count": 13,
   "metadata": {},
   "outputs": [
    {
     "data": {
      "text/plain": [
       "0.401932954788208"
      ]
     },
     "execution_count": 13,
     "metadata": {},
     "output_type": "execute_result"
    }
   ],
   "source": [
    "np.nanmax(prf_rsq_data)"
   ]
  },
  {
   "cell_type": "code",
   "execution_count": 14,
   "metadata": {},
   "outputs": [],
   "source": [
    "## make some test data\n",
    "# left hemisphere is all 100 and right hemisphere is all 0\n",
    "test_data = prf_rsq_data.copy()\n",
    "\n",
    "test_data[0:int(test_data.shape[0]/2),:,:] = 100\n",
    "test_data[int(test_data.shape[0]/2):,:,:] = 0\n",
    "test_data[~np.array(bmask.get_fdata(), dtype=bool)] = np.nan"
   ]
  },
  {
   "cell_type": "code",
   "execution_count": 15,
   "metadata": {},
   "outputs": [],
   "source": [
    "rsq_file = vonmises_dir / 'sub-002_ses-1_space-fsnative_hemi-LR_desc-prf_rsq.npy'\n",
    "\n",
    "rsq_data = np.load(rsq_file)\n",
    "rsq_vcx = cortex.Vertex(rsq_data, subject=cx_sub, vmin=0, vmax=0.3, cmap=\"magma\")"
   ]
  },
  {
   "cell_type": "code",
   "execution_count": 16,
   "metadata": {},
   "outputs": [],
   "source": [
    "retinamap_file = vonmises_dir / 'sub-002_ses-1_space-fsnative_hemi-LR_desc-prf_best_angle.npy'\n",
    "retinamap_data = np.load(retinamap_file)\n",
    "retinamap_data[rsq_data<0.03] = np.nan\n",
    "retinamap_vcx = cortex.Vertex(retinamap_data, subject=cx_sub, vmin=0, vmax=360, cmap=\"hsv\")"
   ]
  },
  {
   "cell_type": "code",
   "execution_count": 17,
   "metadata": {},
   "outputs": [],
   "source": [
    "kappa_file = vonmises_dir / 'sub-002_ses-1_space-fsnative_hemi-LR_desc-prf_best_kappa.npy'\n",
    "kappa_data = np.load(kappa_file)\n",
    "kappa_data[rsq_data<0.03] = np.nan\n",
    "kappa_vcx = cortex.Vertex(kappa_data, subject=cx_sub, vmin=0, vmax=50, cmap=\"J4s\")"
   ]
  },
  {
   "cell_type": "code",
   "execution_count": 18,
   "metadata": {},
   "outputs": [
    {
     "name": "stdout",
     "output_type": "stream",
     "text": [
      "Started server on port 22251\n",
      "Stopping server\n"
     ]
    },
    {
     "data": {
      "text/plain": [
       "<JS: window.viewer>"
      ]
     },
     "execution_count": 18,
     "metadata": {},
     "output_type": "execute_result"
    }
   ],
   "source": [
    "cortex.webgl.show({\"retinamap\": retinamap_vcx, \"rsq\": rsq_vcx, \"kappa\": kappa_vcx})"
   ]
  },
  {
   "cell_type": "code",
   "execution_count": 19,
   "metadata": {},
   "outputs": [
    {
     "ename": "ValueError",
     "evalue": "axes don't match array",
     "output_type": "error",
     "traceback": [
      "\u001b[0;31m---------------------------------------------------------------------------\u001b[0m",
      "\u001b[0;31mValueError\u001b[0m                                Traceback (most recent call last)",
      "Cell \u001b[0;32mIn[19], line 2\u001b[0m\n\u001b[1;32m      1\u001b[0m T12_anat_vcx \u001b[38;5;241m=\u001b[39m cortex\u001b[38;5;241m.\u001b[39mVolume(\u001b[38;5;28mstr\u001b[39m(fs_subj_dir \u001b[38;5;241m/\u001b[39m \u001b[38;5;124m'\u001b[39m\u001b[38;5;124mmri\u001b[39m\u001b[38;5;124m'\u001b[39m \u001b[38;5;241m/\u001b[39m \u001b[38;5;124m'\u001b[39m\u001b[38;5;124mT12.nii.gz\u001b[39m\u001b[38;5;124m'\u001b[39m), cx_sub, \u001b[38;5;124m'\u001b[39m\u001b[38;5;124manat\u001b[39m\u001b[38;5;124m'\u001b[39m, cmap\u001b[38;5;241m=\u001b[39m\u001b[38;5;124m'\u001b[39m\u001b[38;5;124mGreens\u001b[39m\u001b[38;5;124m'\u001b[39m, vmin\u001b[38;5;241m=\u001b[39m\u001b[38;5;241m0\u001b[39m, vmax\u001b[38;5;241m=\u001b[39m\u001b[38;5;241m1\u001b[39m)\n\u001b[0;32m----> 2\u001b[0m prf_best_angle_vcx \u001b[38;5;241m=\u001b[39m cortex\u001b[38;5;241m.\u001b[39mVolume(data\u001b[38;5;241m=\u001b[39m\u001b[43mretinamap_data\u001b[49m\u001b[38;5;241;43m.\u001b[39;49m\u001b[43mtranspose\u001b[49m\u001b[43m(\u001b[49m\u001b[43m(\u001b[49m\u001b[38;5;241;43m2\u001b[39;49m\u001b[43m,\u001b[49m\u001b[38;5;241;43m1\u001b[39;49m\u001b[43m,\u001b[49m\u001b[38;5;241;43m0\u001b[39;49m\u001b[43m)\u001b[49m\u001b[43m)\u001b[49m, subject\u001b[38;5;241m=\u001b[39mcx_sub, xfmname\u001b[38;5;241m=\u001b[39m\u001b[38;5;124m'\u001b[39m\u001b[38;5;124mfmriprep\u001b[39m\u001b[38;5;124m'\u001b[39m, cmap\u001b[38;5;241m=\u001b[39m\u001b[38;5;124m'\u001b[39m\u001b[38;5;124mhsv\u001b[39m\u001b[38;5;124m'\u001b[39m, vmin\u001b[38;5;241m=\u001b[39m\u001b[38;5;241m0\u001b[39m, vmax\u001b[38;5;241m=\u001b[39m\u001b[38;5;241m360\u001b[39m)\n\u001b[1;32m      3\u001b[0m prf_best_kappa_vcx \u001b[38;5;241m=\u001b[39m cortex\u001b[38;5;241m.\u001b[39mVolume(\u001b[38;5;28mstr\u001b[39m(vonmises_dir \u001b[38;5;241m/\u001b[39m \u001b[38;5;124m'\u001b[39m\u001b[38;5;124mprf_best_kappa.nii.gz\u001b[39m\u001b[38;5;124m'\u001b[39m), cx_sub, \u001b[38;5;124m'\u001b[39m\u001b[38;5;124mfmriprep\u001b[39m\u001b[38;5;124m'\u001b[39m, cmap\u001b[38;5;241m=\u001b[39m\u001b[38;5;124m'\u001b[39m\u001b[38;5;124mGreens\u001b[39m\u001b[38;5;124m'\u001b[39m, vmin\u001b[38;5;241m=\u001b[39m\u001b[38;5;241m0\u001b[39m, vmax\u001b[38;5;241m=\u001b[39m\u001b[38;5;241m50\u001b[39m)\n\u001b[1;32m      4\u001b[0m t1w_volume_vcx \u001b[38;5;241m=\u001b[39m cortex\u001b[38;5;241m.\u001b[39mVolume(\u001b[38;5;28mstr\u001b[39m(fs_subj_dir \u001b[38;5;241m/\u001b[39m \u001b[38;5;124m'\u001b[39m\u001b[38;5;124mmri\u001b[39m\u001b[38;5;124m'\u001b[39m \u001b[38;5;241m/\u001b[39m \u001b[38;5;124m'\u001b[39m\u001b[38;5;124mT1.nii.gz\u001b[39m\u001b[38;5;124m'\u001b[39m), cx_sub, \u001b[38;5;124m'\u001b[39m\u001b[38;5;124manat\u001b[39m\u001b[38;5;124m'\u001b[39m)\n",
      "\u001b[0;31mValueError\u001b[0m: axes don't match array"
     ]
    }
   ],
   "source": [
    "T12_anat_vcx = cortex.Volume(str(fs_subj_dir / 'mri' / 'T12.nii.gz'), cx_sub, 'anat', cmap='Greens', vmin=0, vmax=1)\n",
    "prf_best_angle_vcx = cortex.Volume(data=retinamap_data.transpose((2,1,0)), subject=cx_sub, xfmname='fmriprep', cmap='hsv', vmin=0, vmax=360)\n",
    "prf_best_kappa_vcx = cortex.Volume(str(vonmises_dir / 'prf_best_kappa.nii.gz'), cx_sub, 'fmriprep', cmap='Greens', vmin=0, vmax=50)\n",
    "t1w_volume_vcx = cortex.Volume(str(fs_subj_dir / 'mri' / 'T1.nii.gz'), cx_sub, 'anat')\n",
    "prf_rsq_vcx = cortex.Volume(data=prf_rsq_data.transpose((2,1,0)), subject=cx_sub, xfmname='fmriprep', cmap='hot', vmin=0, vmax=0.3)\n",
    "ds = {\"prf_best_angle\": prf_best_angle_vcx, \n",
    "      \"myelin\": T12_anat_vcx, \n",
    "      \"prf_best_kappa\": prf_best_kappa_vcx, \n",
    "      \"t1w\": t1w_volume_vcx,\n",
    "      \"prf_rsq\": prf_rsq_vcx}\n",
    "# for cope, name in zip((1,), [\"prf_rsq\"]):\n",
    "#     cope_fn = vonmises_dir / (name + '.nii.gz')\n",
    "#     cope_vcx = cortex.Volume(str(cope_fn), cx_sub, 'fmriprep', cmap='hot')\n",
    "#     ds[name] = cope_vcx\n",
    "\n",
    "ds['testdata'] = cortex.Volume(data=test_data.transpose((2,1,0)), subject=cx_sub, xfmname='fmriprep', cmap='spring', vmin=0, vmax=100)\n",
    "\n",
    "cortex.webgl.show(ds)\n",
    "cortex.webgl.make_static(ctx_dir / sub, ds)"
   ]
  }
 ],
 "metadata": {
  "kernelspec": {
   "display_name": "suppr_pRF",
   "language": "python",
   "name": "python3"
  },
  "language_info": {
   "codemirror_mode": {
    "name": "ipython",
    "version": 3
   },
   "file_extension": ".py",
   "mimetype": "text/x-python",
   "name": "python",
   "nbconvert_exporter": "python",
   "pygments_lexer": "ipython3",
   "version": "3.9.18"
  }
 },
 "nbformat": 4,
 "nbformat_minor": 2
}
