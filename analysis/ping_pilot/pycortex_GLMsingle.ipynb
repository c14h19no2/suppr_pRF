{
 "cells": [
  {
   "cell_type": "code",
   "execution_count": 1,
   "metadata": {},
   "outputs": [],
   "source": [
    "import os, sys\n",
    "from pathlib import Path\n",
    "import cortex\n",
    "import nibabel as nib\n",
    "import numpy as np\n",
    "import matplotlib.colors as colors\n",
    "import matplotlib.pyplot as pl\n",
    "import time\n",
    "import platform\n",
    "import subprocess"
   ]
  },
  {
   "cell_type": "code",
   "execution_count": 2,
   "metadata": {},
   "outputs": [],
   "source": [
    "if platform.node()=='theCryingMachine.local':\n",
    "    data_dir = Path('/Users/ningkai/Library/CloudStorage/OneDrive-Personal/Workbench/suppr_pRF/data/spinoza/sub-002/derivatives/')\n",
    "elif platform.node()=='Smoldering-Corpse-Bar.local':\n",
    "    data_dir = Path('/Users/dionysus/Library/CloudStorage/OneDrive-Personal/Workbench/suppr_pRF/data/spinoza/sub-002/derivatives/')\n",
    "elif platform.node()=='node230':\n",
    "    raise ValueError('hmmm I dont think it works on a server. Your are working on {}'.format(platform.node()))\n",
    "else:\n",
    "    raise ValueError('No idea which computer this is. The computer name is {}'.format(platform.node()))"
   ]
  },
  {
   "cell_type": "code",
   "execution_count": 3,
   "metadata": {},
   "outputs": [],
   "source": [
    "subj_nr = 2\n",
    "sub = 'sub-{0:03d}'.format(subj_nr)\n",
    "cx_sub = \"EO_\" + sub\n",
    "\n",
    "fs_dir = data_dir / 'freesurfer'\n",
    "fs_subj_dir = Path(fs_dir, sub)\n",
    "\n",
    "GLMsingle_dir = data_dir / 'GLMsingle'\n",
    "example_func_fn = data_dir / 'func' / 'sub-002_ses-01_task-ping_run-6_space-T1w_boldref.nii.gz'\n",
    "\n",
    "bref = nib.load(example_func_fn)\n",
    "\n",
    "ctx_dir = data_dir / 'cortex' / 'outputs'"
   ]
  },
  {
   "cell_type": "code",
   "execution_count": 4,
   "metadata": {},
   "outputs": [
    {
     "name": "stdout",
     "output_type": "stream",
     "text": [
      "cortex.database.default_filestore: /Users/ningkai/Documents/pycortex/db\n",
      "cortex.options.usercfg: /Users/ningkai/Library/Application Support/pycortex/options.cfg\n"
     ]
    }
   ],
   "source": [
    "print('cortex.database.default_filestore: {}'.format(cortex.database.default_filestore))\n",
    "print('cortex.options.usercfg: {}'.format(cortex.options.usercfg))"
   ]
  },
  {
   "cell_type": "code",
   "execution_count": 5,
   "metadata": {},
   "outputs": [
    {
     "name": "stdout",
     "output_type": "stream",
     "text": [
      "b'created by nwa201 on Tue Dec 12 21:21:24 2023\\n'\n",
      "b'created by nwa201 on Wed Dec 13 01:55:48 2023\\n'\n",
      "b'created by nwa201 on Tue Dec 12 23:48:23 2023\\n'\n",
      "b'created by nwa201 on Wed Dec 13 02:00:33 2023\\n'\n",
      "b'created by nwa201 on Tue Dec 12 21:21:24 2023\\n'\n",
      "b'created by nwa201 on Tue Dec 12 23:48:23 2023\\n'\n",
      "b'created by nwa201 on Wed Dec 13 01:55:48 2023\\n'\n",
      "b'created by nwa201 on Wed Dec 13 02:00:33 2023\\n'\n",
      "b'created by nwa201 on Tue Dec 12 21:23:11 2023\\n'\n",
      "b'created by nwa201 on Tue Dec 12 23:49:12 2023\\n'\n"
     ]
    }
   ],
   "source": [
    "cortex.freesurfer.import_subj(fs_subject=sub,\n",
    "                                cx_subject=cx_sub,\n",
    "                                freesurfer_subject_dir=fs_dir)"
   ]
  },
  {
   "cell_type": "code",
   "execution_count": 6,
   "metadata": {},
   "outputs": [],
   "source": [
    "transform = cortex.xfm.Transform(np.identity(4), bref)\n",
    "transform.save(cx_sub, 'fmriprep', 'magnet')"
   ]
  },
  {
   "cell_type": "code",
   "execution_count": 7,
   "metadata": {},
   "outputs": [
    {
     "name": "stdout",
     "output_type": "stream",
     "text": [
      "mri_convert /Users/ningkai/Library/CloudStorage/OneDrive-Personal/Workbench/suppr_pRF/data/spinoza/sub-002/derivatives/freesurfer/sub-002/mri/T1.mgz /Users/ningkai/Library/CloudStorage/OneDrive-Personal/Workbench/suppr_pRF/data/spinoza/sub-002/derivatives/freesurfer/sub-002/mri/T1.nii.gz \n",
      "reading from /Users/ningkai/Library/CloudStorage/OneDrive-Personal/Workbench/suppr_pRF/data/spinoza/sub-002/derivatives/freesurfer/sub-002/mri/T1.mgz...\n",
      "TR=0.00, TE=0.00, TI=0.00, flip angle=0.00\n",
      "i_ras = (-1, 0, 0)\n",
      "j_ras = (0, 2.14097e-08, -1)\n",
      "k_ras = (0, 1, 2.14097e-08)\n",
      "writing to /Users/ningkai/Library/CloudStorage/OneDrive-Personal/Workbench/suppr_pRF/data/spinoza/sub-002/derivatives/freesurfer/sub-002/mri/T1.nii.gz...\n",
      "mri_convert /Users/ningkai/Library/CloudStorage/OneDrive-Personal/Workbench/suppr_pRF/data/spinoza/sub-002/derivatives/freesurfer/sub-002/mri/T2.mgz /Users/ningkai/Library/CloudStorage/OneDrive-Personal/Workbench/suppr_pRF/data/spinoza/sub-002/derivatives/freesurfer/sub-002/mri/T2.nii.gz \n",
      "reading from /Users/ningkai/Library/CloudStorage/OneDrive-Personal/Workbench/suppr_pRF/data/spinoza/sub-002/derivatives/freesurfer/sub-002/mri/T2.mgz...\n",
      "TR=0.00, TE=0.00, TI=0.00, flip angle=0.00\n",
      "i_ras = (-1, 0, 0)\n",
      "j_ras = (0, 2.14097e-08, -1)\n",
      "k_ras = (0, 1, 2.14097e-08)\n",
      "writing to /Users/ningkai/Library/CloudStorage/OneDrive-Personal/Workbench/suppr_pRF/data/spinoza/sub-002/derivatives/freesurfer/sub-002/mri/T2.nii.gz...\n"
     ]
    }
   ],
   "source": [
    "T1 = Path(fs_dir, sub, \"mri\", \"T1.nii.gz\")\n",
    "T2 = Path(fs_dir, sub, \"mri\", \"T2.nii.gz\")\n",
    "T12 = Path(fs_dir, sub, \"mri\", \"T12.nii.gz\")\n",
    "os.system(\"mri_convert %s %s\" % (Path(str(T1).replace('.nii.gz', '.mgz')), T1))\n",
    "os.system(\"mri_convert %s %s\" % (Path(str(T2).replace('.nii.gz', '.mgz')), T2))\n",
    "os.system(\"fslmaths %s -div %s %s\" % (T1, T2, T12))\n",
    "aref = nib.load(T1)\n",
    "transform = cortex.xfm.Transform(np.identity(4), aref)\n",
    "transform.save(cx_sub, 'anat', 'magnet')"
   ]
  },
  {
   "cell_type": "code",
   "execution_count": 8,
   "metadata": {},
   "outputs": [
    {
     "name": "stdout",
     "output_type": "stream",
     "text": [
      "Generating new ctm file...\n",
      "wm\n",
      "wm\n",
      "inflated\n",
      "inflated\n",
      "Started server on port 18831\n"
     ]
    },
    {
     "name": "stdout",
     "output_type": "stream",
     "text": [
      "Stopping server\n"
     ]
    }
   ],
   "source": [
    "T12_anat_vcx = cortex.Volume(str(fs_subj_dir / 'mri' / 'T12.nii.gz'), cx_sub, 'anat', cmap='Greens', vmin=0, vmax=1)\n",
    "TYPED_FRACvalue_vcx = cortex.Volume(str(GLMsingle_dir / 'TYPED_FRACvalue.nii.gz'), cx_sub, 'fmriprep', cmap='Greens', vmin=0, vmax=1)\n",
    "TYPED_retinamap_vcx = cortex.Volume(str(GLMsingle_dir / 'TYPED_retinamap.nii.gz'), cx_sub, 'fmriprep', cmap='hsv', vmin=0, vmax=360)\n",
    "ds = {\"TYPED_FRACvalue\": TYPED_FRACvalue_vcx}\n",
    "ds[\"TYPED_retinamap\"] = TYPED_retinamap_vcx\n",
    "for cope, name in zip((1,2,3), [\"TYPED_R2\", \"TYPEA_onoffR2\", \"TYPEC_R2\"]):\n",
    "    cope_fn = GLMsingle_dir / (name + '.nii.gz')\n",
    "    cope_vcx = cortex.Volume(str(cope_fn), cx_sub, 'fmriprep', cmap='coolwarm')\n",
    "    ds[name] = cope_vcx\n",
    "\n",
    "cortex.webgl.show(ds)\n",
    "cortex.webgl.make_static(ctx_dir / sub, ds)"
   ]
  }
 ],
 "metadata": {
  "kernelspec": {
   "display_name": "suppr_pRF",
   "language": "python",
   "name": "python3"
  },
  "language_info": {
   "codemirror_mode": {
    "name": "ipython",
    "version": 3
   },
   "file_extension": ".py",
   "mimetype": "text/x-python",
   "name": "python",
   "nbconvert_exporter": "python",
   "pygments_lexer": "ipython3",
   "version": "3.9.18"
  }
 },
 "nbformat": 4,
 "nbformat_minor": 2
}
